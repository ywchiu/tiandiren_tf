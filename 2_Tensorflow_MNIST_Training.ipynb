{
  "nbformat": 4,
  "nbformat_minor": 0,
  "metadata": {
    "colab": {
      "provenance": []
    },
    "kernelspec": {
      "name": "python3",
      "display_name": "Python 3"
    },
    "language_info": {
      "name": "python"
    }
  },
  "cells": [
    {
      "cell_type": "markdown",
      "source": [
        "## 讀取MNIST數據"
      ],
      "metadata": {
        "id": "IyEkW4LnAUce"
      }
    },
    {
      "cell_type": "code",
      "execution_count": 12,
      "metadata": {
        "id": "0Uh3ZD1W_qhp"
      },
      "outputs": [],
      "source": [
        "from tensorflow import keras\n",
        "mnist = keras.datasets.mnist\n",
        "(x_train, y_train), (x_test, y_test) = mnist.load_data()"
      ]
    },
    {
      "cell_type": "code",
      "source": [
        "x_train.shape"
      ],
      "metadata": {
        "colab": {
          "base_uri": "https://localhost:8080/"
        },
        "id": "8ywBEd6nAAM_",
        "outputId": "70e7b5c8-ab0a-4b9f-9875-6b650ea099eb"
      },
      "execution_count": 13,
      "outputs": [
        {
          "output_type": "execute_result",
          "data": {
            "text/plain": [
              "(60000, 28, 28)"
            ]
          },
          "metadata": {},
          "execution_count": 13
        }
      ]
    },
    {
      "cell_type": "code",
      "source": [
        "from matplotlib import pyplot as plt\n",
        "plt.imshow(x_train[0])"
      ],
      "metadata": {
        "colab": {
          "base_uri": "https://localhost:8080/",
          "height": 448
        },
        "id": "F72lmlwYABwF",
        "outputId": "0ea65b0b-faea-4977-ed0a-cde68c4ee38e"
      },
      "execution_count": 14,
      "outputs": [
        {
          "output_type": "execute_result",
          "data": {
            "text/plain": [
              "<matplotlib.image.AxesImage at 0x7f6d7810b4f0>"
            ]
          },
          "metadata": {},
          "execution_count": 14
        },
        {
          "output_type": "display_data",
          "data": {
            "text/plain": [
              "<Figure size 640x480 with 1 Axes>"
            ],
            "image/png": "[encoded data removed]"
          },
          "metadata": {}
        }
      ]
    },
    {
      "cell_type": "code",
      "source": [
        "y_train[0]"
      ],
      "metadata": {
        "colab": {
          "base_uri": "https://localhost:8080/"
        },
        "id": "9dnrRfZ1ADr2",
        "outputId": "d15e6e9c-91b0-4561-a0bb-d7be4147f4d2"
      },
      "execution_count": 15,
      "outputs": [
        {
          "output_type": "execute_result",
          "data": {
            "text/plain": [
              "5"
            ]
          },
          "metadata": {},
          "execution_count": 15
        }
      ]
    },
    {
      "cell_type": "markdown",
      "source": [
        "## 資料預處理"
      ],
      "metadata": {
        "id": "P1LLbmyBAYyy"
      }
    },
    {
      "cell_type": "code",
      "source": [
        "x_train = x_train.reshape(60000, 784)\n",
        "x_test = x_test.reshape(10000, 784)"
      ],
      "metadata": {
        "id": "N7tzBJqMAFf_"
      },
      "execution_count": 16,
      "outputs": []
    },
    {
      "cell_type": "code",
      "source": [
        "x_train.shape, x_test.shape"
      ],
      "metadata": {
        "colab": {
          "base_uri": "https://localhost:8080/"
        },
        "id": "CXW4o4rYAHTn",
        "outputId": "b08728fd-621b-498a-fe3e-c3a6aee03d17"
      },
      "execution_count": 17,
      "outputs": [
        {
          "output_type": "execute_result",
          "data": {
            "text/plain": [
              "((60000, 784), (10000, 784))"
            ]
          },
          "metadata": {},
          "execution_count": 17
        }
      ]
    },
    {
      "cell_type": "code",
      "source": [
        "x_train = x_train / 255.0\n",
        "x_test = x_test / 255.0"
      ],
      "metadata": {
        "id": "DVvFYkCSAI0N"
      },
      "execution_count": 18,
      "outputs": []
    },
    {
      "cell_type": "code",
      "source": [
        "from tensorflow.keras import utils\n",
        "y_train_ = utils.to_categorical(y_train, 10)\n",
        "y_test_ = utils.to_categorical(y_test, 10)"
      ],
      "metadata": {
        "id": "MjzmzUQ6AvrX"
      },
      "execution_count": 19,
      "outputs": []
    },
    {
      "cell_type": "markdown",
      "source": [
        "## 建立類神經網路(ANN)模型"
      ],
      "metadata": {
        "id": "XRV7xzS8AblZ"
      }
    },
    {
      "cell_type": "code",
      "source": [
        "from tensorflow.keras.models import Sequential\n",
        "from tensorflow.keras.layers import Dense\n",
        "model = Sequential()\n",
        "# Dense: x * w + b\n",
        "model.add(Dense(256, activation = 'relu', input_shape = (784,)))\n",
        "model.add(Dense(256, activation = 'relu'))\n",
        "model.add(Dense(10, activation='softmax'))"
      ],
      "metadata": {
        "id": "wXYzIY2zAKHN"
      },
      "execution_count": 20,
      "outputs": []
    },
    {
      "cell_type": "code",
      "source": [
        "model.summary()"
      ],
      "metadata": {
        "colab": {
          "base_uri": "https://localhost:8080/"
        },
        "id": "O8R0WwCGALd4",
        "outputId": "4c4008cf-6268-49c5-9c82-590b17059822"
      },
      "execution_count": 21,
      "outputs": [
        {
          "output_type": "stream",
          "name": "stdout",
          "text": [
            "Model: \"sequential_1\"\n",
            "_________________________________________________________________\n",
            " Layer (type)                Output Shape              Param #   \n",
            "=================================================================\n",
            " dense_3 (Dense)             (None, 256)               200960    \n",
            "                                                                 \n",
            " dense_4 (Dense)             (None, 256)               65792     \n",
            "                                                                 \n",
            " dense_5 (Dense)             (None, 10)                2570      \n",
            "                                                                 \n",
            "=================================================================\n",
            "Total params: 269,322\n",
            "Trainable params: 269,322\n",
            "Non-trainable params: 0\n",
            "_________________________________________________________________\n"
          ]
        }
      ]
    },
    {
      "cell_type": "code",
      "source": [
        "model.compile(optimizer='sgd',\n",
        "       loss='categorical_crossentropy',\n",
        "       metrics=['accuracy'])"
      ],
      "metadata": {
        "id": "5dP_DZC-AM_M"
      },
      "execution_count": 22,
      "outputs": []
    },
    {
      "cell_type": "markdown",
      "source": [
        "## 模型訓練"
      ],
      "metadata": {
        "id": "SX856xthAg72"
      }
    },
    {
      "cell_type": "code",
      "source": [
        "model.fit(x_train, y_train_, \n",
        "    epochs=15, batch_size = 256,\n",
        "    validation_data = (x_test, y_test_))"
      ],
      "metadata": {
        "colab": {
          "base_uri": "https://localhost:8080/"
        },
        "id": "kmTepk7LAQs4",
        "outputId": "c3325d3c-5233-4b36-f58b-6582bce8ffe4"
      },
      "execution_count": 23,
      "outputs": [
        {
          "output_type": "stream",
          "name": "stdout",
          "text": [
            "Epoch 1/15\n",
            "235/235 [==============================] - 4s 14ms/step - loss: 1.5840 - accuracy: 0.6375 - val_loss: 0.9382 - val_accuracy: 0.8158\n",
            "Epoch 2/15\n",
            "235/235 [==============================] - 6s 26ms/step - loss: 0.7220 - accuracy: 0.8407 - val_loss: 0.5474 - val_accuracy: 0.8686\n",
            "Epoch 3/15\n",
            "235/235 [==============================] - 5s 22ms/step - loss: 0.5064 - accuracy: 0.8723 - val_loss: 0.4358 - val_accuracy: 0.8859\n",
            "Epoch 4/15\n",
            "235/235 [==============================] - 6s 27ms/step - loss: 0.4268 - accuracy: 0.8866 - val_loss: 0.3803 - val_accuracy: 0.8980\n",
            "Epoch 5/15\n",
            "235/235 [==============================] - 3s 15ms/step - loss: 0.3844 - accuracy: 0.8955 - val_loss: 0.3495 - val_accuracy: 0.9034\n",
            "Epoch 6/15\n",
            "235/235 [==============================] - 3s 12ms/step - loss: 0.3572 - accuracy: 0.9016 - val_loss: 0.3286 - val_accuracy: 0.9069\n",
            "Epoch 7/15\n",
            "235/235 [==============================] - 3s 12ms/step - loss: 0.3374 - accuracy: 0.9060 - val_loss: 0.3123 - val_accuracy: 0.9117\n",
            "Epoch 8/15\n",
            "235/235 [==============================] - 4s 19ms/step - loss: 0.3219 - accuracy: 0.9097 - val_loss: 0.2999 - val_accuracy: 0.9150\n",
            "Epoch 9/15\n",
            "235/235 [==============================] - 3s 12ms/step - loss: 0.3091 - accuracy: 0.9131 - val_loss: 0.2896 - val_accuracy: 0.9183\n",
            "Epoch 10/15\n",
            "235/235 [==============================] - 3s 12ms/step - loss: 0.2982 - accuracy: 0.9157 - val_loss: 0.2798 - val_accuracy: 0.9212\n",
            "Epoch 11/15\n",
            "235/235 [==============================] - 3s 12ms/step - loss: 0.2885 - accuracy: 0.9181 - val_loss: 0.2720 - val_accuracy: 0.9240\n",
            "Epoch 12/15\n",
            "235/235 [==============================] - 4s 18ms/step - loss: 0.2799 - accuracy: 0.9205 - val_loss: 0.2654 - val_accuracy: 0.9223\n",
            "Epoch 13/15\n",
            "235/235 [==============================] - 3s 12ms/step - loss: 0.2721 - accuracy: 0.9226 - val_loss: 0.2577 - val_accuracy: 0.9274\n",
            "Epoch 14/15\n",
            "235/235 [==============================] - 3s 13ms/step - loss: 0.2646 - accuracy: 0.9245 - val_loss: 0.2510 - val_accuracy: 0.9288\n",
            "Epoch 15/15\n",
            "235/235 [==============================] - 3s 12ms/step - loss: 0.2578 - accuracy: 0.9266 - val_loss: 0.2466 - val_accuracy: 0.9304\n"
          ]
        },
        {
          "output_type": "execute_result",
          "data": {
            "text/plain": [
              "<keras.callbacks.History at 0x7f6d78153f10>"
            ]
          },
          "metadata": {},
          "execution_count": 23
        }
      ]
    },
    {
      "cell_type": "code",
      "source": [
        "plt.plot(range(len(model.history.history['accuracy'])), model.history.history['accuracy'])"
      ],
      "metadata": {
        "colab": {
          "base_uri": "https://localhost:8080/",
          "height": 448
        },
        "id": "0CeEgRDJAShl",
        "outputId": "98ebf230-fe7c-4db4-aaab-b848bcc01d36"
      },
      "execution_count": 24,
      "outputs": [
        {
          "output_type": "execute_result",
          "data": {
            "text/plain": [
              "[<matplotlib.lines.Line2D at 0x7f6d96f1cb80>]"
            ]
          },
          "metadata": {},
          "execution_count": 24
        },
        {
          "output_type": "display_data",
          "data": {
            "text/plain": [
              "<Figure size 640x480 with 1 Axes>"
            ],
            "image/png": "[encoded data removed]"
          },
          "metadata": {}
        }
      ]
    },
    {
      "cell_type": "code",
      "source": [
        "plt.plot(range(len(model.history.history['loss'])), model.history.history['loss'])"
      ],
      "metadata": {
        "colab": {
          "base_uri": "https://localhost:8080/",
          "height": 448
        },
        "id": "-H2SAgcFA962",
        "outputId": "d3d1604d-cc6c-4759-db0f-3fd0082c6e91"
      },
      "execution_count": 25,
      "outputs": [
        {
          "output_type": "execute_result",
          "data": {
            "text/plain": [
              "[<matplotlib.lines.Line2D at 0x7f6d96fa04f0>]"
            ]
          },
          "metadata": {},
          "execution_count": 25
        },
        {
          "output_type": "display_data",
          "data": {
            "text/plain": [
              "<Figure size 640x480 with 1 Axes>"
            ],
            "image/png": "[encoded data removed]"
          },
          "metadata": {}
        }
      ]
    },
    {
      "cell_type": "code",
      "source": [],
      "metadata": {
        "id": "RMNYEnu3A_-Q"
      },
      "execution_count": null,
      "outputs": []
    }
  ]
}