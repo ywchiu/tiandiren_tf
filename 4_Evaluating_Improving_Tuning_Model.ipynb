{
  "nbformat": 4,
  "nbformat_minor": 0,
  "metadata": {
    "colab": {
      "provenance": []
    },
    "kernelspec": {
      "name": "python3",
      "display_name": "Python 3"
    },
    "language_info": {
      "name": "python"
    }
  },
  "cells": [
    {
      "cell_type": "markdown",
      "source": [
        "## 讀取資料"
      ],
      "metadata": {
        "id": "m58TWPckXDjQ"
      }
    },
    {
      "cell_type": "code",
      "execution_count": null,
      "metadata": {
        "colab": {
          "base_uri": "https://localhost:8080/"
        },
        "id": "l4XJ7hvuVgh0",
        "outputId": "f8e0762b-e9d9-46c4-a182-eff2a623048f"
      },
      "outputs": [
        {
          "output_type": "stream",
          "name": "stdout",
          "text": [
            "Downloading data from https://storage.googleapis.com/tensorflow/tf-keras-datasets/mnist.npz\n",
            "11490434/11490434 [==============================] - 0s 0us/step\n"
          ]
        }
      ],
      "source": [
        "from tensorflow import keras\n",
        "mnist = keras.datasets.mnist\n",
        "(x_train, y_train), (x_test, y_test) = mnist.load_data()"
      ]
    },
    {
      "cell_type": "markdown",
      "source": [
        "## 資料前處理"
      ],
      "metadata": {
        "id": "HsZfSYw6XJCv"
      }
    },
    {
      "cell_type": "code",
      "source": [
        "x_train = x_train.reshape(60000, 784)\n",
        "x_test = x_test.reshape(10000, 784)\n",
        "\n",
        "x_train = x_train / 255.0\n",
        "x_test = x_test / 255.0\n",
        "\n",
        "from tensorflow.keras import utils\n",
        "y_train_ = utils.to_categorical(y_train, 10)\n",
        "y_test_ = utils.to_categorical(y_test, 10)"
      ],
      "metadata": {
        "id": "xapJx1SfXIF8"
      },
      "execution_count": null,
      "outputs": []
    },
    {
      "cell_type": "markdown",
      "source": [
        "## K-Fold 交叉驗證"
      ],
      "metadata": {
        "id": "2LAhBfaTXQwP"
      }
    },
    {
      "cell_type": "code",
      "source": [
        "import tensorflow as tf\n",
        "from tensorflow.keras.models import Sequential\n",
        "from tensorflow.keras.layers import Dense,Dropout"
      ],
      "metadata": {
        "id": "o6uWMwfEXkL5"
      },
      "execution_count": null,
      "outputs": []
    },
    {
      "cell_type": "code",
      "source": [
        "def buildClassifier(optimizer):\n",
        "  model = Sequential()\n",
        "  model.add(Dense(256, activation = 'relu', input_shape = (784,)))\n",
        "  model.add(Dense(256, activation = 'relu'))\n",
        "  model.add(Dense(10, activation='softmax'))\n",
        "  model.compile(loss='categorical_crossentropy',\n",
        "                  optimizer=optimizer,\n",
        "                  metrics=['accuracy'])\n",
        "  return model"
      ],
      "metadata": {
        "id": "B1Y8E5TXXODt"
      },
      "execution_count": null,
      "outputs": []
    },
    {
      "cell_type": "code",
      "source": [
        "from sklearn.model_selection import cross_val_score\n",
        "classifier = tf.keras.wrappers.scikit_learn.KerasClassifier(build_fn = buildClassifier,\n",
        "                                                            batch_size = 256,\n",
        "                                                            epochs = 10,\n",
        "                                                            verbose = 0, \n",
        "                                                            optimizer = 'sgd')\n",
        "accuracies = cross_val_score(estimator = classifier, X = x_train, y = y_train_, cv = 5) "
      ],
      "metadata": {
        "colab": {
          "base_uri": "https://localhost:8080/"
        },
        "id": "atMx0gmwXhno",
        "outputId": "146350ed-8700-4d9a-aaee-6e6439dcb85e"
      },
      "execution_count": null,
      "outputs": [
        {
          "output_type": "stream",
          "name": "stderr",
          "text": [
            "<ipython-input-6-4cb917f66fbf>:2: DeprecationWarning: KerasClassifier is deprecated, use Sci-Keras (https://github.com/adriangb/scikeras) instead. See https://www.adriangb.com/scikeras/stable/migration.html for help migrating.\n",
            "  classifier = tf.keras.wrappers.scikit_learn.KerasClassifier(build_fn = buildClassifier,\n"
          ]
        }
      ]
    },
    {
      "cell_type": "code",
      "source": [
        "accuracies.mean()"
      ],
      "metadata": {
        "colab": {
          "base_uri": "https://localhost:8080/"
        },
        "id": "Wwh3WleqYgii",
        "outputId": "e48f0c35-4edf-407b-ce1b-f67ec52bb5b1"
      },
      "execution_count": null,
      "outputs": [
        {
          "output_type": "execute_result",
          "data": {
            "text/plain": [
              "0.9085500001907348"
            ]
          },
          "metadata": {},
          "execution_count": 7
        }
      ]
    },
    {
      "cell_type": "code",
      "source": [
        "accuracies.std()"
      ],
      "metadata": {
        "colab": {
          "base_uri": "https://localhost:8080/"
        },
        "id": "gtyKrZC9Y61_",
        "outputId": "07c86a98-d7d3-46e5-bf80-58fbac9d5028"
      },
      "execution_count": null,
      "outputs": [
        {
          "output_type": "execute_result",
          "data": {
            "text/plain": [
              "0.005528117701261053"
            ]
          },
          "metadata": {},
          "execution_count": 8
        }
      ]
    },
    {
      "cell_type": "markdown",
      "source": [
        "## Dropout"
      ],
      "metadata": {
        "id": "5Ya57bI8ZaFa"
      }
    },
    {
      "cell_type": "code",
      "source": [
        "from tensorflow.keras.layers import Dense,Dropout"
      ],
      "metadata": {
        "id": "3Eqq5KZ2ZnMF"
      },
      "execution_count": null,
      "outputs": []
    },
    {
      "cell_type": "code",
      "source": [
        "def buildClassifierWithDropout(optimizer):\n",
        "  model = Sequential()\n",
        "  model.add(Dense(256, activation = 'relu', input_shape = (784,)))\n",
        "  model.add(Dropout(0.1))\n",
        "  model.add(Dense(256, activation = 'relu'))\n",
        "  model.add(Dropout(0.1))\n",
        "  model.add(Dense(10, activation='softmax'))\n",
        "  model.compile(loss='categorical_crossentropy',\n",
        "                  optimizer=optimizer,\n",
        "                  metrics=['accuracy'])\n",
        "  return model"
      ],
      "metadata": {
        "id": "0EAUKSaJY9UU"
      },
      "execution_count": null,
      "outputs": []
    },
    {
      "cell_type": "code",
      "source": [
        "from sklearn.model_selection import cross_val_score\n",
        "classifier = tf.keras.wrappers.scikit_learn.KerasClassifier(build_fn = buildClassifierWithDropout,\n",
        "                                                            batch_size = 256,\n",
        "                                                            epochs = 10,\n",
        "                                                            verbose = 0, \n",
        "                                                            optimizer = 'sgd')\n",
        "accuracies = cross_val_score(estimator = classifier, X = x_train, y = y_train_, cv = 5) "
      ],
      "metadata": {
        "colab": {
          "base_uri": "https://localhost:8080/"
        },
        "id": "NXOaXq9xZ7qX",
        "outputId": "e731c933-52db-4631-cd6b-795aa37fbcd7"
      },
      "execution_count": null,
      "outputs": [
        {
          "output_type": "stream",
          "name": "stderr",
          "text": [
            "<ipython-input-11-4129b4edf6b1>:2: DeprecationWarning: KerasClassifier is deprecated, use Sci-Keras (https://github.com/adriangb/scikeras) instead. See https://www.adriangb.com/scikeras/stable/migration.html for help migrating.\n",
            "  classifier = tf.keras.wrappers.scikit_learn.KerasClassifier(build_fn = buildClassifierWithDropout,\n"
          ]
        }
      ]
    },
    {
      "cell_type": "code",
      "source": [
        "accuracies.mean()"
      ],
      "metadata": {
        "colab": {
          "base_uri": "https://localhost:8080/"
        },
        "id": "UGiDPQmsaEuf",
        "outputId": "49c21aba-66fd-4271-98a8-a2ce09cebce3"
      },
      "execution_count": null,
      "outputs": [
        {
          "output_type": "execute_result",
          "data": {
            "text/plain": [
              "0.9078166723251343"
            ]
          },
          "metadata": {},
          "execution_count": 12
        }
      ]
    },
    {
      "cell_type": "code",
      "source": [
        "accuracies.std()"
      ],
      "metadata": {
        "colab": {
          "base_uri": "https://localhost:8080/"
        },
        "id": "aExCOHrbanjr",
        "outputId": "2fffdca6-210b-4c8a-a632-0945036bd0e7"
      },
      "execution_count": null,
      "outputs": [
        {
          "output_type": "execute_result",
          "data": {
            "text/plain": [
              "0.005946622697674775"
            ]
          },
          "metadata": {},
          "execution_count": 13
        }
      ]
    },
    {
      "cell_type": "markdown",
      "source": [
        "## GridSearch"
      ],
      "metadata": {
        "id": "nEpQGTckbn8v"
      }
    },
    {
      "cell_type": "code",
      "source": [
        "from sklearn.model_selection import GridSearchCV\n",
        "classifier = tf.keras.wrappers.scikit_learn.KerasClassifier(build_fn = buildClassifierWithDropout,\n",
        "                                                            epochs = 1,\n",
        "                                                            verbose = 0)\n",
        "paramters = {'batch_size' : [128,256], 'optimizer': ['adam', 'rmsprop']}\n",
        "grid_search = GridSearchCV(estimator = classifier, param_grid = paramters, cv = 2)\n",
        "grid_search = grid_search.fit(x_train, y_train_)"
      ],
      "metadata": {
        "colab": {
          "base_uri": "https://localhost:8080/"
        },
        "id": "mSXp5ZJta3mj",
        "outputId": "604f7a40-f6bd-4665-bd0e-fa745e0f9209"
      },
      "execution_count": null,
      "outputs": [
        {
          "output_type": "stream",
          "name": "stderr",
          "text": [
            "<ipython-input-15-5633bfd38745>:2: DeprecationWarning: KerasClassifier is deprecated, use Sci-Keras (https://github.com/adriangb/scikeras) instead. See https://www.adriangb.com/scikeras/stable/migration.html for help migrating.\n",
            "  classifier = tf.keras.wrappers.scikit_learn.KerasClassifier(build_fn = buildClassifierWithDropout,\n"
          ]
        }
      ]
    },
    {
      "cell_type": "code",
      "source": [
        "grid_search.best_params_"
      ],
      "metadata": {
        "colab": {
          "base_uri": "https://localhost:8080/"
        },
        "id": "rHp6xNmwchrT",
        "outputId": "857fa2e5-2aa4-4ff4-c589-4d8ff5c72b97"
      },
      "execution_count": null,
      "outputs": [
        {
          "output_type": "execute_result",
          "data": {
            "text/plain": [
              "{'batch_size': 128, 'optimizer': 'adam'}"
            ]
          },
          "metadata": {},
          "execution_count": 16
        }
      ]
    },
    {
      "cell_type": "code",
      "source": [],
      "metadata": {
        "id": "KzUBEDxNcXvs"
      },
      "execution_count": null,
      "outputs": []
    }
  ]
}