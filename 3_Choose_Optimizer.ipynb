{
  "nbformat": 4,
  "nbformat_minor": 0,
  "metadata": {
    "colab": {
      "provenance": [],
      "gpuType": "T4"
    },
    "kernelspec": {
      "name": "python3",
      "display_name": "Python 3"
    },
    "language_info": {
      "name": "python"
    },
    "accelerator": "GPU"
  },
  "cells": [
    {
      "cell_type": "markdown",
      "source": [
        "## 讀取資料"
      ],
      "metadata": {
        "id": "I4m1O_baPQqA"
      }
    },
    {
      "cell_type": "code",
      "execution_count": null,
      "metadata": {
        "colab": {
          "base_uri": "https://localhost:8080/"
        },
        "id": "XhBOuy8IJ4Oa",
        "outputId": "c4e8c4af-28eb-484e-b3e3-30ca554f8e3b"
      },
      "outputs": [
        {
          "output_type": "stream",
          "name": "stdout",
          "text": [
            "Downloading data from https://storage.googleapis.com/tensorflow/tf-keras-datasets/mnist.npz\n",
            "11490434/11490434 [==============================] - 0s 0us/step\n"
          ]
        }
      ],
      "source": [
        "from tensorflow import keras\n",
        "mnist = keras.datasets.mnist\n",
        "(x_train, y_train), (x_test, y_test) = mnist.load_data()"
      ]
    },
    {
      "cell_type": "markdown",
      "source": [
        "## 資料前處理"
      ],
      "metadata": {
        "id": "3MU0mepIPeKt"
      }
    },
    {
      "cell_type": "code",
      "source": [
        "x_train = x_train.reshape(60000, 784)\n",
        "x_test = x_test.reshape(10000, 784)\n",
        "x_train = x_train / 255.0\n",
        "x_ttest = x_test / 255.0\n",
        "\n",
        "from tensorflow.keras import utils\n",
        "y_train_ = utils.to_categorical(y_train, 10)\n",
        "y_test_ = utils.to_categorical(y_test, 10)"
      ],
      "metadata": {
        "id": "O50P8VfZPbKs"
      },
      "execution_count": null,
      "outputs": []
    },
    {
      "cell_type": "markdown",
      "source": [
        "## 選擇優化器"
      ],
      "metadata": {
        "id": "fn4qvpbdQKDm"
      }
    },
    {
      "cell_type": "code",
      "source": [
        "import tensorflow as tf\n",
        "from tensorflow.keras.models import Sequential\n",
        "from tensorflow.keras.layers import Dense\n",
        "# Dense: x * w + b\n",
        "\n",
        "# 784 (28 * 28) -> 256 (relu) -> 256 (relu) -> 10 (softmax)\n",
        "\n",
        "\n",
        "def trainProcess(optimizer):\n",
        "  model = Sequential()\n",
        "  model.add(Dense(256, activation = 'relu', input_shape = (784,)))\n",
        "  model.add(Dense(256, activation = 'relu'))\n",
        "  model.add(Dense(10, activation = 'softmax'))\n",
        "  model.compile(loss='categorical_crossentropy',\n",
        "                  optimizer=optimizer,\n",
        "                  metrics=['accuracy'])\n",
        "  \n",
        "  history = model.fit(x_train, y_train_,\n",
        "                        batch_size=256,\n",
        "                        epochs=10,\n",
        "                        verbose=0,\n",
        "                        validation_data=(x_test, y_test_)) \n",
        "  return history"
      ],
      "metadata": {
        "id": "myGM7iaFQBfe"
      },
      "execution_count": null,
      "outputs": []
    },
    {
      "cell_type": "code",
      "source": [
        "history1 = trainProcess('sgd')"
      ],
      "metadata": {
        "id": "UWaQOJ_fRJj9"
      },
      "execution_count": null,
      "outputs": []
    },
    {
      "cell_type": "code",
      "source": [
        "history2 = trainProcess('RMSprop')"
      ],
      "metadata": {
        "id": "rOd2pelvRQXo"
      },
      "execution_count": null,
      "outputs": []
    },
    {
      "cell_type": "code",
      "source": [
        "history3 = trainProcess('Adagrad')"
      ],
      "metadata": {
        "id": "G8CyvocZRz7e"
      },
      "execution_count": null,
      "outputs": []
    },
    {
      "cell_type": "code",
      "source": [
        "history4 = trainProcess('Adadelta')"
      ],
      "metadata": {
        "id": "ddVJ73MwR4t3"
      },
      "execution_count": null,
      "outputs": []
    },
    {
      "cell_type": "code",
      "source": [
        "history5 = trainProcess('Adam')"
      ],
      "metadata": {
        "id": "gpl0CzOLR8dv"
      },
      "execution_count": null,
      "outputs": []
    },
    {
      "cell_type": "markdown",
      "source": [
        "## 評估優化器"
      ],
      "metadata": {
        "id": "XuSy_RFcSDlk"
      }
    },
    {
      "cell_type": "code",
      "source": [
        "history1.history.keys()"
      ],
      "metadata": {
        "colab": {
          "base_uri": "https://localhost:8080/"
        },
        "id": "c_M4mH45R_q9",
        "outputId": "73061e44-f112-4baf-add6-cceb224e27f2"
      },
      "execution_count": null,
      "outputs": [
        {
          "output_type": "execute_result",
          "data": {
            "text/plain": [
              "dict_keys(['loss', 'accuracy', 'val_loss', 'val_accuracy'])"
            ]
          },
          "metadata": {},
          "execution_count": 9
        }
      ]
    },
    {
      "cell_type": "code",
      "source": [
        "import matplotlib.pyplot as plt\n",
        "plt.figure(num=None, figsize=(8, 6), dpi=80, facecolor='w', edgecolor='k')\n",
        "plt.plot(history1.epoch, history1.history.get('accuracy'), label='SGD')\n",
        "plt.plot(history2.epoch, history2.history.get('accuracy'), label='RMSProp')\n",
        "plt.plot(history3.epoch, history3.history.get('accuracy'), label='AdaGrad')\n",
        "plt.plot(history4.epoch, history4.history.get('accuracy'), label='AdaDelta')\n",
        "plt.plot(history5.epoch, history5.history.get('accuracy'), label='Adam')\n",
        "plt.legend()\n",
        "plt.show()"
      ],
      "metadata": {
        "colab": {
          "base_uri": "https://localhost:8080/",
          "height": 420
        },
        "id": "_jupQ7ZcSJp_",
        "outputId": "53581efc-e53d-46ef-fe91-eff039cead38"
      },
      "execution_count": null,
      "outputs": [
        {
          "output_type": "display_data",
          "data": {
            "text/plain": [
              "<Figure size 640x480 with 1 Axes>"
            ],
            "image/png": "[encoded data removed]"
          },
          "metadata": {}
        }
      ]
    },
    {
      "cell_type": "code",
      "source": [],
      "metadata": {
        "id": "BXOV3iGLSTDZ"
      },
      "execution_count": null,
      "outputs": []
    }
  ]
}